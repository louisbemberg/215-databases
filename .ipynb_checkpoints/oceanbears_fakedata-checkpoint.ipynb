{
 "cells": [
  {
   "cell_type": "code",
   "execution_count": 2,
   "id": "26cc09e2",
   "metadata": {},
   "outputs": [],
   "source": [
    "# loading necessary packages\n",
    "import numpy as np\n",
    "import datetime\n",
    "import random\n",
    "from faker import Faker"
   ]
  },
  {
   "cell_type": "code",
   "execution_count": 4,
   "id": "3b8334dd",
   "metadata": {},
   "outputs": [],
   "source": [
    "# generating faker object with english settings\n",
    "fake=Faker('en_US')"
   ]
  },
  {
   "cell_type": "markdown",
   "id": "6c876496",
   "metadata": {},
   "source": [
    "# Person (Superclass)"
   ]
  },
  {
   "cell_type": "code",
   "execution_count": 5,
   "id": "e13132c6",
   "metadata": {},
   "outputs": [],
   "source": [
    "# creates an array of dictionaries, where each dict is a row in DB\n",
    "# 50 rows by default with id = 1..num_rows\n",
    "\n",
    "def create_persons(num_rows=50):\n",
    "    persons = []\n",
    "    for i in range(num_rows):\n",
    "        person = {\n",
    "            'person_id': i+1,\n",
    "            'p_name': fake.name(),\n",
    "            'p_phone_number': fake.phone_number(),\n",
    "            'p_address': fake.address()\n",
    "        }\n",
    "        persons.append(person)\n",
    "        \n",
    "    return persons"
   ]
  },
  {
   "cell_type": "code",
   "execution_count": 6,
   "id": "f27c3b5b",
   "metadata": {},
   "outputs": [
    {
     "ename": "TypeError",
     "evalue": "'int' object is not iterable",
     "output_type": "error",
     "traceback": [
      "\u001b[0;31m---------------------------------------------------------------------------\u001b[0m",
      "\u001b[0;31mTypeError\u001b[0m                                 Traceback (most recent call last)",
      "\u001b[0;32m/var/folders/v3/1kz7xjcj2yb31_35s_2dbd0r0000gn/T/ipykernel_81361/3139491929.py\u001b[0m in \u001b[0;36m<module>\u001b[0;34m\u001b[0m\n\u001b[1;32m      1\u001b[0m \u001b[0;31m# Testing it out\u001b[0m\u001b[0;34m\u001b[0m\u001b[0;34m\u001b[0m\u001b[0;34m\u001b[0m\u001b[0m\n\u001b[0;32m----> 2\u001b[0;31m \u001b[0mcreate_persons\u001b[0m\u001b[0;34m(\u001b[0m\u001b[0;34m)\u001b[0m\u001b[0;34m\u001b[0m\u001b[0;34m\u001b[0m\u001b[0m\n\u001b[0m",
      "\u001b[0;32m/var/folders/v3/1kz7xjcj2yb31_35s_2dbd0r0000gn/T/ipykernel_81361/2075681245.py\u001b[0m in \u001b[0;36mcreate_persons\u001b[0;34m(num_rows)\u001b[0m\n\u001b[1;32m      4\u001b[0m \u001b[0;32mdef\u001b[0m \u001b[0mcreate_persons\u001b[0m\u001b[0;34m(\u001b[0m\u001b[0mnum_rows\u001b[0m\u001b[0;34m=\u001b[0m\u001b[0;36m50\u001b[0m\u001b[0;34m)\u001b[0m\u001b[0;34m:\u001b[0m\u001b[0;34m\u001b[0m\u001b[0;34m\u001b[0m\u001b[0m\n\u001b[1;32m      5\u001b[0m     \u001b[0mpersons\u001b[0m \u001b[0;34m=\u001b[0m \u001b[0;34m[\u001b[0m\u001b[0;34m]\u001b[0m\u001b[0;34m\u001b[0m\u001b[0;34m\u001b[0m\u001b[0m\n\u001b[0;32m----> 6\u001b[0;31m     \u001b[0;32mfor\u001b[0m \u001b[0mi\u001b[0m \u001b[0;32min\u001b[0m \u001b[0mnum_rows\u001b[0m\u001b[0;34m:\u001b[0m\u001b[0;34m\u001b[0m\u001b[0;34m\u001b[0m\u001b[0m\n\u001b[0m\u001b[1;32m      7\u001b[0m         person = {\n\u001b[1;32m      8\u001b[0m             \u001b[0;34m'person_id'\u001b[0m\u001b[0;34m:\u001b[0m \u001b[0mi\u001b[0m\u001b[0;34m+\u001b[0m\u001b[0;36m1\u001b[0m\u001b[0;34m,\u001b[0m\u001b[0;34m\u001b[0m\u001b[0;34m\u001b[0m\u001b[0m\n",
      "\u001b[0;31mTypeError\u001b[0m: 'int' object is not iterable"
     ]
    }
   ],
   "source": [
    "# Testing it out\n",
    "create_persons()"
   ]
  },
  {
   "cell_type": "code",
   "execution_count": null,
   "id": "7e158f25",
   "metadata": {},
   "outputs": [],
   "source": []
  }
 ],
 "metadata": {
  "kernelspec": {
   "display_name": "Python 3 (ipykernel)",
   "language": "python",
   "name": "python3"
  },
  "language_info": {
   "codemirror_mode": {
    "name": "ipython",
    "version": 3
   },
   "file_extension": ".py",
   "mimetype": "text/x-python",
   "name": "python",
   "nbconvert_exporter": "python",
   "pygments_lexer": "ipython3",
   "version": "3.8.6"
  },
  "toc": {
   "base_numbering": 1,
   "nav_menu": {},
   "number_sections": true,
   "sideBar": true,
   "skip_h1_title": false,
   "title_cell": "Table of Contents",
   "title_sidebar": "Contents",
   "toc_cell": false,
   "toc_position": {},
   "toc_section_display": true,
   "toc_window_display": false
  }
 },
 "nbformat": 4,
 "nbformat_minor": 5
}
