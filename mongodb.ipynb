{
 "cells": [
  {
   "cell_type": "code",
   "execution_count": 2,
   "metadata": {},
   "outputs": [],
   "source": [
    "# Import pymongo stuff\n",
    "import pymongo\n",
    "import pprint\n",
    "import json\n",
    "import warnings\n",
    "import pandas as pd \n",
    "from bson import ObjectId\n",
    "warnings.filterwarnings('ignore')\n",
    "\n",
    "myclient = pymongo.MongoClient('mongodb://localhost:27017')\n",
    "db = myclient[\"oceanbears\"] "
   ]
  },
  {
   "cell_type": "markdown",
   "metadata": {},
   "source": [
    "## MongoDB Queries\n",
    "\n",
    "### Query 2: Get performance of the lessons by theacher\n",
    "The goal is to track average rating per lesson in order to understand instructors popularity and performance."
   ]
  },
  {
   "cell_type": "code",
   "execution_count": 3,
   "metadata": {},
   "outputs": [],
   "source": [
    "aggregation = [\n",
    "    {\n",
    "        '$lookup': {\n",
    "            'from': 'takes_lessons', \n",
    "            'localField': '_id', \n",
    "            'foreignField': 'lesson_id', \n",
    "            'as': 'lessons_taken'\n",
    "        }\n",
    "    }, {\n",
    "        '$addFields': {\n",
    "            'avgRating': {\n",
    "                '$avg': '$lessons_taken.rating'\n",
    "            }\n",
    "        }\n",
    "    }, {\n",
    "        '$lookup': {\n",
    "            'from': 'surf_teachers', \n",
    "            'localField': 'is_given_by_surf_teacher', \n",
    "            'foreignField': '_id', \n",
    "            'as': 'teacher'\n",
    "        }\n",
    "    }, {\n",
    "        '$lookup': {\n",
    "            'from': 'locations', \n",
    "            'localField': 'beach_location', \n",
    "            'foreignField': '_id', \n",
    "            'as': 'location'\n",
    "        }\n",
    "    }, {\n",
    "        '$unwind': {\n",
    "            'path': '$teacher', \n",
    "            'preserveNullAndEmptyArrays': False\n",
    "        }\n",
    "    }, {\n",
    "        '$unwind': {\n",
    "            'path': '$location', \n",
    "            'preserveNullAndEmptyArrays': False\n",
    "        }\n",
    "    }, {\n",
    "        '$project': {\n",
    "            'teacher_id': '$teacher._id', \n",
    "            'teacher_name': '$teacher.p_name', \n",
    "            'lesson_id': '$_id', \n",
    "            'location_id': '$location._id', \n",
    "            'latitude': '$location.latitude', \n",
    "            'longitude': '$location.longitude', \n",
    "            'average_rating': '$avgRating', \n",
    "            'total_students': {\n",
    "                '$size': '$lessons_taken'\n",
    "            }, \n",
    "            'revenue': '$total_price_paid'\n",
    "        }\n",
    "    }\n",
    "]"
   ]
  },
  {
   "cell_type": "code",
   "execution_count": 4,
   "metadata": {},
   "outputs": [],
   "source": [
    "def get_lessons_performance():\n",
    "    perf = pd.DataFrame(db[\"lessons\"].aggregate(aggregation))\n",
    "    return perf"
   ]
  },
  {
   "cell_type": "code",
   "execution_count": 5,
   "metadata": {},
   "outputs": [
    {
     "data": {
      "text/html": [
       "<div>\n",
       "<style scoped>\n",
       "    .dataframe tbody tr th:only-of-type {\n",
       "        vertical-align: middle;\n",
       "    }\n",
       "\n",
       "    .dataframe tbody tr th {\n",
       "        vertical-align: top;\n",
       "    }\n",
       "\n",
       "    .dataframe thead th {\n",
       "        text-align: right;\n",
       "    }\n",
       "</style>\n",
       "<table border=\"1\" class=\"dataframe\">\n",
       "  <thead>\n",
       "    <tr style=\"text-align: right;\">\n",
       "      <th></th>\n",
       "      <th>_id</th>\n",
       "      <th>teacher_id</th>\n",
       "      <th>teacher_name</th>\n",
       "      <th>lesson_id</th>\n",
       "      <th>location_id</th>\n",
       "      <th>latitude</th>\n",
       "      <th>longitude</th>\n",
       "      <th>average_rating</th>\n",
       "      <th>total_students</th>\n",
       "      <th>revenue</th>\n",
       "    </tr>\n",
       "  </thead>\n",
       "  <tbody>\n",
       "    <tr>\n",
       "      <th>0</th>\n",
       "      <td>626720ec892ffbdfb6127187</td>\n",
       "      <td>62671b9cbb13db8215b3d6e3</td>\n",
       "      <td>Erin Velazquez</td>\n",
       "      <td>626720ec892ffbdfb6127187</td>\n",
       "      <td>6267204b892ffbdfb6127150</td>\n",
       "      <td>-44.2408495</td>\n",
       "      <td>-76.551521</td>\n",
       "      <td>2.888889</td>\n",
       "      <td>9</td>\n",
       "      <td>175</td>\n",
       "    </tr>\n",
       "    <tr>\n",
       "      <th>1</th>\n",
       "      <td>626720ec892ffbdfb6127188</td>\n",
       "      <td>62671b31bb13db8215b3d5e3</td>\n",
       "      <td>Danielle Bennett</td>\n",
       "      <td>626720ec892ffbdfb6127188</td>\n",
       "      <td>6267204b892ffbdfb6127150</td>\n",
       "      <td>-44.2408495</td>\n",
       "      <td>-76.551521</td>\n",
       "      <td>1.666667</td>\n",
       "      <td>6</td>\n",
       "      <td>175</td>\n",
       "    </tr>\n",
       "    <tr>\n",
       "      <th>2</th>\n",
       "      <td>626720ec892ffbdfb6127189</td>\n",
       "      <td>62671b31bb13db8215b3d5ce</td>\n",
       "      <td>Tyler Ward</td>\n",
       "      <td>626720ec892ffbdfb6127189</td>\n",
       "      <td>626720ba892ffbdfb6127172</td>\n",
       "      <td>21.9622875</td>\n",
       "      <td>4.532076</td>\n",
       "      <td>2.000000</td>\n",
       "      <td>9</td>\n",
       "      <td>105</td>\n",
       "    </tr>\n",
       "    <tr>\n",
       "      <th>3</th>\n",
       "      <td>626720ec892ffbdfb612718a</td>\n",
       "      <td>62671b9cbb13db8215b3d716</td>\n",
       "      <td>Christopher Escobar</td>\n",
       "      <td>626720ec892ffbdfb612718a</td>\n",
       "      <td>6267204b892ffbdfb6127160</td>\n",
       "      <td>43.088794</td>\n",
       "      <td>-26.655581</td>\n",
       "      <td>3.666667</td>\n",
       "      <td>3</td>\n",
       "      <td>70</td>\n",
       "    </tr>\n",
       "    <tr>\n",
       "      <th>4</th>\n",
       "      <td>626720ec892ffbdfb612718b</td>\n",
       "      <td>62671b31bb13db8215b3d5de</td>\n",
       "      <td>Paul Morales</td>\n",
       "      <td>626720ec892ffbdfb612718b</td>\n",
       "      <td>626720ba892ffbdfb6127176</td>\n",
       "      <td>-59.6851735</td>\n",
       "      <td>-114.048823</td>\n",
       "      <td>3.250000</td>\n",
       "      <td>12</td>\n",
       "      <td>70</td>\n",
       "    </tr>\n",
       "  </tbody>\n",
       "</table>\n",
       "</div>"
      ],
      "text/plain": [
       "                        _id                teacher_id         teacher_name  \\\n",
       "0  626720ec892ffbdfb6127187  62671b9cbb13db8215b3d6e3       Erin Velazquez   \n",
       "1  626720ec892ffbdfb6127188  62671b31bb13db8215b3d5e3     Danielle Bennett   \n",
       "2  626720ec892ffbdfb6127189  62671b31bb13db8215b3d5ce           Tyler Ward   \n",
       "3  626720ec892ffbdfb612718a  62671b9cbb13db8215b3d716  Christopher Escobar   \n",
       "4  626720ec892ffbdfb612718b  62671b31bb13db8215b3d5de         Paul Morales   \n",
       "\n",
       "                  lesson_id               location_id     latitude  \\\n",
       "0  626720ec892ffbdfb6127187  6267204b892ffbdfb6127150  -44.2408495   \n",
       "1  626720ec892ffbdfb6127188  6267204b892ffbdfb6127150  -44.2408495   \n",
       "2  626720ec892ffbdfb6127189  626720ba892ffbdfb6127172   21.9622875   \n",
       "3  626720ec892ffbdfb612718a  6267204b892ffbdfb6127160    43.088794   \n",
       "4  626720ec892ffbdfb612718b  626720ba892ffbdfb6127176  -59.6851735   \n",
       "\n",
       "     longitude  average_rating  total_students  revenue  \n",
       "0   -76.551521        2.888889               9      175  \n",
       "1   -76.551521        1.666667               6      175  \n",
       "2     4.532076        2.000000               9      105  \n",
       "3   -26.655581        3.666667               3       70  \n",
       "4  -114.048823        3.250000              12       70  "
      ]
     },
     "execution_count": 5,
     "metadata": {},
     "output_type": "execute_result"
    }
   ],
   "source": [
    "lessons_performance = get_lessons_performance()\n",
    "lessons_performance.head()"
   ]
  },
  {
   "cell_type": "code",
   "execution_count": 6,
   "metadata": {},
   "outputs": [
    {
     "data": {
      "text/plain": [
       "<AxesSubplot:ylabel='Frequency'>"
      ]
     },
     "execution_count": 6,
     "metadata": {},
     "output_type": "execute_result"
    },
    {
     "data": {
      "image/png": "[encoded data removed]",
      "text/plain": [
       "<Figure size 432x288 with 1 Axes>"
      ]
     },
     "metadata": {
      "needs_background": "light"
     },
     "output_type": "display_data"
    }
   ],
   "source": [
    "lessons_performance.average_rating.plot.hist()"
   ]
  },
  {
   "cell_type": "code",
   "execution_count": 7,
   "metadata": {},
   "outputs": [
    {
     "data": {
      "text/plain": [
       "<AxesSubplot:ylabel='Frequency'>"
      ]
     },
     "execution_count": 7,
     "metadata": {},
     "output_type": "execute_result"
    },
    {
     "data": {
      "image/png": "[encoded data removed]",
      "text/plain": [
       "<Figure size 432x288 with 1 Axes>"
      ]
     },
     "metadata": {
      "needs_background": "light"
     },
     "output_type": "display_data"
    }
   ],
   "source": [
    "lessons_performance.total_students.plot.hist()"
   ]
  },
  {
   "cell_type": "code",
   "execution_count": 8,
   "metadata": {},
   "outputs": [
    {
     "data": {
      "text/plain": [
       "<AxesSubplot:ylabel='Frequency'>"
      ]
     },
     "execution_count": 8,
     "metadata": {},
     "output_type": "execute_result"
    },
    {
     "data": {
      "image/png": "[encoded data removed]",
      "text/plain": [
       "<Figure size 432x288 with 1 Axes>"
      ]
     },
     "metadata": {
      "needs_background": "light"
     },
     "output_type": "display_data"
    }
   ],
   "source": [
    "lessons_performance.revenue.plot.hist()"
   ]
  },
  {
   "cell_type": "markdown",
   "metadata": {},
   "source": [
    "#### Top rated lessons"
   ]
  },
  {
   "cell_type": "code",
   "execution_count": 13,
   "metadata": {},
   "outputs": [
    {
     "data": {
      "text/html": [
       "<div>\n",
       "<style scoped>\n",
       "    .dataframe tbody tr th:only-of-type {\n",
       "        vertical-align: middle;\n",
       "    }\n",
       "\n",
       "    .dataframe tbody tr th {\n",
       "        vertical-align: top;\n",
       "    }\n",
       "\n",
       "    .dataframe thead th {\n",
       "        text-align: right;\n",
       "    }\n",
       "</style>\n",
       "<table border=\"1\" class=\"dataframe\">\n",
       "  <thead>\n",
       "    <tr style=\"text-align: right;\">\n",
       "      <th></th>\n",
       "      <th>teacher_id</th>\n",
       "      <th>teacher_name</th>\n",
       "      <th>average_rating</th>\n",
       "    </tr>\n",
       "  </thead>\n",
       "  <tbody>\n",
       "    <tr>\n",
       "      <th>22</th>\n",
       "      <td>62671b9cbb13db8215b3d73c</td>\n",
       "      <td>Angela Schultz</td>\n",
       "      <td>4.285714</td>\n",
       "    </tr>\n",
       "    <tr>\n",
       "      <th>78</th>\n",
       "      <td>62671b9cbb13db8215b3d75a</td>\n",
       "      <td>Andrew Anderson</td>\n",
       "      <td>3.800000</td>\n",
       "    </tr>\n",
       "    <tr>\n",
       "      <th>32</th>\n",
       "      <td>62671b9cbb13db8215b3d750</td>\n",
       "      <td>Sharon Reed</td>\n",
       "      <td>3.666667</td>\n",
       "    </tr>\n",
       "    <tr>\n",
       "      <th>3</th>\n",
       "      <td>62671b9cbb13db8215b3d716</td>\n",
       "      <td>Christopher Escobar</td>\n",
       "      <td>3.666667</td>\n",
       "    </tr>\n",
       "    <tr>\n",
       "      <th>80</th>\n",
       "      <td>62671b9cbb13db8215b3d757</td>\n",
       "      <td>Sarah Bautista</td>\n",
       "      <td>3.625000</td>\n",
       "    </tr>\n",
       "  </tbody>\n",
       "</table>\n",
       "</div>"
      ],
      "text/plain": [
       "                  teacher_id         teacher_name  average_rating\n",
       "22  62671b9cbb13db8215b3d73c       Angela Schultz        4.285714\n",
       "78  62671b9cbb13db8215b3d75a      Andrew Anderson        3.800000\n",
       "32  62671b9cbb13db8215b3d750          Sharon Reed        3.666667\n",
       "3   62671b9cbb13db8215b3d716  Christopher Escobar        3.666667\n",
       "80  62671b9cbb13db8215b3d757       Sarah Bautista        3.625000"
      ]
     },
     "execution_count": 13,
     "metadata": {},
     "output_type": "execute_result"
    }
   ],
   "source": [
    "sorted = lessons_performance.sort_values(by=\"average_rating\", ascending=False)[['teacher_id', 'teacher_name', 'average_rating']]\n",
    "sorted.head(5)"
   ]
  },
  {
   "cell_type": "markdown",
   "metadata": {},
   "source": [
    "#### Top revenue lessons"
   ]
  },
  {
   "cell_type": "code",
   "execution_count": 17,
   "metadata": {},
   "outputs": [
    {
     "data": {
      "text/html": [
       "<div>\n",
       "<style scoped>\n",
       "    .dataframe tbody tr th:only-of-type {\n",
       "        vertical-align: middle;\n",
       "    }\n",
       "\n",
       "    .dataframe tbody tr th {\n",
       "        vertical-align: top;\n",
       "    }\n",
       "\n",
       "    .dataframe thead th {\n",
       "        text-align: right;\n",
       "    }\n",
       "</style>\n",
       "<table border=\"1\" class=\"dataframe\">\n",
       "  <thead>\n",
       "    <tr style=\"text-align: right;\">\n",
       "      <th></th>\n",
       "      <th>teacher_id</th>\n",
       "      <th>teacher_name</th>\n",
       "      <th>revenue</th>\n",
       "    </tr>\n",
       "  </thead>\n",
       "  <tbody>\n",
       "    <tr>\n",
       "      <th>0</th>\n",
       "      <td>62671b9cbb13db8215b3d6e3</td>\n",
       "      <td>Erin Velazquez</td>\n",
       "      <td>175</td>\n",
       "    </tr>\n",
       "    <tr>\n",
       "      <th>69</th>\n",
       "      <td>62671b31bb13db8215b3d5b2</td>\n",
       "      <td>Melanie Todd</td>\n",
       "      <td>175</td>\n",
       "    </tr>\n",
       "    <tr>\n",
       "      <th>35</th>\n",
       "      <td>62671b31bb13db8215b3d59c</td>\n",
       "      <td>Erin Guerrero</td>\n",
       "      <td>175</td>\n",
       "    </tr>\n",
       "    <tr>\n",
       "      <th>43</th>\n",
       "      <td>62671b9cbb13db8215b3d740</td>\n",
       "      <td>James Butler</td>\n",
       "      <td>175</td>\n",
       "    </tr>\n",
       "    <tr>\n",
       "      <th>49</th>\n",
       "      <td>62671b9cbb13db8215b3d6ee</td>\n",
       "      <td>Joann Hall</td>\n",
       "      <td>175</td>\n",
       "    </tr>\n",
       "  </tbody>\n",
       "</table>\n",
       "</div>"
      ],
      "text/plain": [
       "                  teacher_id    teacher_name  revenue\n",
       "0   62671b9cbb13db8215b3d6e3  Erin Velazquez      175\n",
       "69  62671b31bb13db8215b3d5b2    Melanie Todd      175\n",
       "35  62671b31bb13db8215b3d59c   Erin Guerrero      175\n",
       "43  62671b9cbb13db8215b3d740    James Butler      175\n",
       "49  62671b9cbb13db8215b3d6ee      Joann Hall      175"
      ]
     },
     "execution_count": 17,
     "metadata": {},
     "output_type": "execute_result"
    }
   ],
   "source": [
    "sorted = lessons_performance.sort_values(by=\"revenue\", ascending=False)[['teacher_id', 'teacher_name', 'revenue']]\n",
    "sorted.head(5)"
   ]
  },
  {
   "cell_type": "markdown",
   "metadata": {},
   "source": [
    "#### Most popular lessons"
   ]
  },
  {
   "cell_type": "code",
   "execution_count": 18,
   "metadata": {},
   "outputs": [
    {
     "data": {
      "text/html": [
       "<div>\n",
       "<style scoped>\n",
       "    .dataframe tbody tr th:only-of-type {\n",
       "        vertical-align: middle;\n",
       "    }\n",
       "\n",
       "    .dataframe tbody tr th {\n",
       "        vertical-align: top;\n",
       "    }\n",
       "\n",
       "    .dataframe thead th {\n",
       "        text-align: right;\n",
       "    }\n",
       "</style>\n",
       "<table border=\"1\" class=\"dataframe\">\n",
       "  <thead>\n",
       "    <tr style=\"text-align: right;\">\n",
       "      <th></th>\n",
       "      <th>teacher_id</th>\n",
       "      <th>teacher_name</th>\n",
       "      <th>total_students</th>\n",
       "    </tr>\n",
       "  </thead>\n",
       "  <tbody>\n",
       "    <tr>\n",
       "      <th>70</th>\n",
       "      <td>62671b9cbb13db8215b3d708</td>\n",
       "      <td>Derrick Mitchell</td>\n",
       "      <td>18</td>\n",
       "    </tr>\n",
       "    <tr>\n",
       "      <th>34</th>\n",
       "      <td>62671b31bb13db8215b3d59c</td>\n",
       "      <td>Erin Guerrero</td>\n",
       "      <td>17</td>\n",
       "    </tr>\n",
       "    <tr>\n",
       "      <th>61</th>\n",
       "      <td>62671b31bb13db8215b3d598</td>\n",
       "      <td>Kelsey Thomas</td>\n",
       "      <td>17</td>\n",
       "    </tr>\n",
       "    <tr>\n",
       "      <th>79</th>\n",
       "      <td>62671b9cbb13db8215b3d737</td>\n",
       "      <td>Tony Taylor</td>\n",
       "      <td>17</td>\n",
       "    </tr>\n",
       "    <tr>\n",
       "      <th>21</th>\n",
       "      <td>62671b9cbb13db8215b3d6b9</td>\n",
       "      <td>Brian Nash</td>\n",
       "      <td>17</td>\n",
       "    </tr>\n",
       "  </tbody>\n",
       "</table>\n",
       "</div>"
      ],
      "text/plain": [
       "                  teacher_id      teacher_name  total_students\n",
       "70  62671b9cbb13db8215b3d708  Derrick Mitchell              18\n",
       "34  62671b31bb13db8215b3d59c     Erin Guerrero              17\n",
       "61  62671b31bb13db8215b3d598     Kelsey Thomas              17\n",
       "79  62671b9cbb13db8215b3d737       Tony Taylor              17\n",
       "21  62671b9cbb13db8215b3d6b9        Brian Nash              17"
      ]
     },
     "execution_count": 18,
     "metadata": {},
     "output_type": "execute_result"
    }
   ],
   "source": [
    "sorted = lessons_performance.sort_values(by=\"total_students\", ascending=False)[['teacher_id', 'teacher_name', 'total_students']]\n",
    "sorted.head(5)"
   ]
  },
  {
   "cell_type": "markdown",
   "metadata": {},
   "source": [
    "### Worst rated lessons"
   ]
  },
  {
   "cell_type": "code",
   "execution_count": 20,
   "metadata": {},
   "outputs": [
    {
     "data": {
      "text/html": [
       "<div>\n",
       "<style scoped>\n",
       "    .dataframe tbody tr th:only-of-type {\n",
       "        vertical-align: middle;\n",
       "    }\n",
       "\n",
       "    .dataframe tbody tr th {\n",
       "        vertical-align: top;\n",
       "    }\n",
       "\n",
       "    .dataframe thead th {\n",
       "        text-align: right;\n",
       "    }\n",
       "</style>\n",
       "<table border=\"1\" class=\"dataframe\">\n",
       "  <thead>\n",
       "    <tr style=\"text-align: right;\">\n",
       "      <th></th>\n",
       "      <th>teacher_id</th>\n",
       "      <th>teacher_name</th>\n",
       "      <th>average_rating</th>\n",
       "    </tr>\n",
       "  </thead>\n",
       "  <tbody>\n",
       "    <tr>\n",
       "      <th>1</th>\n",
       "      <td>62671b31bb13db8215b3d5e3</td>\n",
       "      <td>Danielle Bennett</td>\n",
       "      <td>1.666667</td>\n",
       "    </tr>\n",
       "    <tr>\n",
       "      <th>2</th>\n",
       "      <td>62671b31bb13db8215b3d5ce</td>\n",
       "      <td>Tyler Ward</td>\n",
       "      <td>2.000000</td>\n",
       "    </tr>\n",
       "    <tr>\n",
       "      <th>43</th>\n",
       "      <td>62671b9cbb13db8215b3d740</td>\n",
       "      <td>James Butler</td>\n",
       "      <td>2.000000</td>\n",
       "    </tr>\n",
       "    <tr>\n",
       "      <th>60</th>\n",
       "      <td>62671b31bb13db8215b3d5a6</td>\n",
       "      <td>Terrence White</td>\n",
       "      <td>2.133333</td>\n",
       "    </tr>\n",
       "    <tr>\n",
       "      <th>85</th>\n",
       "      <td>62671b9cbb13db8215b3d70a</td>\n",
       "      <td>Andrew Washington</td>\n",
       "      <td>2.333333</td>\n",
       "    </tr>\n",
       "  </tbody>\n",
       "</table>\n",
       "</div>"
      ],
      "text/plain": [
       "                  teacher_id       teacher_name  average_rating\n",
       "1   62671b31bb13db8215b3d5e3   Danielle Bennett        1.666667\n",
       "2   62671b31bb13db8215b3d5ce         Tyler Ward        2.000000\n",
       "43  62671b9cbb13db8215b3d740       James Butler        2.000000\n",
       "60  62671b31bb13db8215b3d5a6     Terrence White        2.133333\n",
       "85  62671b9cbb13db8215b3d70a  Andrew Washington        2.333333"
      ]
     },
     "execution_count": 20,
     "metadata": {},
     "output_type": "execute_result"
    }
   ],
   "source": [
    "sorted = lessons_performance.sort_values(by=\"average_rating\", ascending=True)[['teacher_id', 'teacher_name', 'average_rating']]\n",
    "sorted.head(5)"
   ]
  },
  {
   "cell_type": "code",
   "execution_count": null,
   "metadata": {},
   "outputs": [],
   "source": []
  }
 ],
 "metadata": {
  "interpreter": {
   "hash": "aee8b7b246df8f9039afb4144a1f6fd8d2ca17a180786b69acc140d282b71a49"
  },
  "kernelspec": {
   "display_name": "Python 3.9.4 64-bit",
   "language": "python",
   "name": "python3"
  },
  "language_info": {
   "codemirror_mode": {
    "name": "ipython",
    "version": 3
   },
   "file_extension": ".py",
   "mimetype": "text/x-python",
   "name": "python",
   "nbconvert_exporter": "python",
   "pygments_lexer": "ipython3",
   "version": "3.9.4"
  },
  "orig_nbformat": 4
 },
 "nbformat": 4,
 "nbformat_minor": 2
}
